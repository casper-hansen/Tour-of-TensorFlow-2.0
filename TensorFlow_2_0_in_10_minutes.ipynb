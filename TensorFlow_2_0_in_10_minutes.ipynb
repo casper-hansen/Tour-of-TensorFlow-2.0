{
  "nbformat": 4,
  "nbformat_minor": 0,
  "metadata": {
    "colab": {
      "name": "TensorFlow 2.0 in 10 minutes.ipynb",
      "provenance": [],
      "collapsed_sections": [
        "nKg-TFroDL9r"
      ],
      "include_colab_link": true
    },
    "kernelspec": {
      "name": "python3",
      "display_name": "Python 3"
    },
    "accelerator": "GPU"
  },
  "cells": [
    {
      "cell_type": "markdown",
      "metadata": {
        "id": "view-in-github",
        "colab_type": "text"
      },
      "source": [
        "<a href=\"https://colab.research.google.com/github/casperbh96/tensorflow-2.0/blob/master/TensorFlow_2_0_in_10_minutes.ipynb\" target=\"_parent\"><img src=\"https://colab.research.google.com/assets/colab-badge.svg\" alt=\"Open In Colab\"/></a>"
      ]
    },
    {
      "cell_type": "markdown",
      "metadata": {
        "id": "q5x_t4oo9pYc",
        "colab_type": "text"
      },
      "source": [
        "This Notebook is for an article on [ML From Scratch](https://mlfromscratch.com/p/18322acd-0bb7-4355-b45a-47d442fd2429/).\n",
        "\n",
        "- Update your TensorFlow version to 2.0 (CPU and GPU)\n",
        "- Verify that you are running TensorFlow 2.0\n",
        "- Verify if running eager execution\n",
        "- Common Use operations\n",
        "- Linear algebra operations\n",
        "- Calculating Gradients\n",
        "- Functions in TensorFlow\n",
        "- Building a Neural Network with TensorFlow 2.0"
      ]
    },
    {
      "cell_type": "markdown",
      "metadata": {
        "id": "8g_9EOcaEhk4",
        "colab_type": "text"
      },
      "source": [
        "# Update your TensorFlow version to 2.0 (CPU and GPU)\n",
        "Here we can use pip with an exclamation mark to run pip commands. Firstly, we specify for pip to upgrade both the tensorflow CPU version, and then the tensorflow GPU version, to version 2.0.0 or later.\n",
        "\n",
        "After updating to 2.0.0 or later, we can simply import tensorflow and start running commands."
      ]
    },
    {
      "cell_type": "code",
      "metadata": {
        "id": "idKNbqe0hrHA",
        "colab_type": "code",
        "outputId": "6b2b4742-9ce5-4b1d-c8e8-8ae0303e1f06",
        "colab": {
          "base_uri": "https://localhost:8080/",
          "height": 615
        }
      },
      "source": [
        "#!pip install --upgrade tensorflow\n",
        "!pip install --upgrade tensorflow-gpu\n",
        "import tensorflow as tf"
      ],
      "execution_count": 0,
      "outputs": [
        {
          "output_type": "stream",
          "text": [
            "Requirement already up-to-date: tensorflow-gpu in /usr/local/lib/python3.6/dist-packages (2.0.0)\n",
            "Requirement already satisfied, skipping upgrade: tensorboard<2.1.0,>=2.0.0 in /usr/local/lib/python3.6/dist-packages (from tensorflow-gpu) (2.0.1)\n",
            "Requirement already satisfied, skipping upgrade: keras-preprocessing>=1.0.5 in /usr/local/lib/python3.6/dist-packages (from tensorflow-gpu) (1.1.0)\n",
            "Requirement already satisfied, skipping upgrade: grpcio>=1.8.6 in /usr/local/lib/python3.6/dist-packages (from tensorflow-gpu) (1.15.0)\n",
            "Requirement already satisfied, skipping upgrade: absl-py>=0.7.0 in /usr/local/lib/python3.6/dist-packages (from tensorflow-gpu) (0.8.1)\n",
            "Requirement already satisfied, skipping upgrade: wheel>=0.26 in /usr/local/lib/python3.6/dist-packages (from tensorflow-gpu) (0.33.6)\n",
            "Requirement already satisfied, skipping upgrade: protobuf>=3.6.1 in /usr/local/lib/python3.6/dist-packages (from tensorflow-gpu) (3.10.0)\n",
            "Requirement already satisfied, skipping upgrade: keras-applications>=1.0.8 in /usr/local/lib/python3.6/dist-packages (from tensorflow-gpu) (1.0.8)\n",
            "Requirement already satisfied, skipping upgrade: google-pasta>=0.1.6 in /usr/local/lib/python3.6/dist-packages (from tensorflow-gpu) (0.1.7)\n",
            "Requirement already satisfied, skipping upgrade: wrapt>=1.11.1 in /usr/local/lib/python3.6/dist-packages (from tensorflow-gpu) (1.11.2)\n",
            "Requirement already satisfied, skipping upgrade: astor>=0.6.0 in /usr/local/lib/python3.6/dist-packages (from tensorflow-gpu) (0.8.0)\n",
            "Requirement already satisfied, skipping upgrade: tensorflow-estimator<2.1.0,>=2.0.0 in /usr/local/lib/python3.6/dist-packages (from tensorflow-gpu) (2.0.1)\n",
            "Requirement already satisfied, skipping upgrade: numpy<2.0,>=1.16.0 in /usr/local/lib/python3.6/dist-packages (from tensorflow-gpu) (1.17.3)\n",
            "Requirement already satisfied, skipping upgrade: six>=1.10.0 in /usr/local/lib/python3.6/dist-packages (from tensorflow-gpu) (1.12.0)\n",
            "Requirement already satisfied, skipping upgrade: opt-einsum>=2.3.2 in /usr/local/lib/python3.6/dist-packages (from tensorflow-gpu) (3.1.0)\n",
            "Requirement already satisfied, skipping upgrade: gast==0.2.2 in /usr/local/lib/python3.6/dist-packages (from tensorflow-gpu) (0.2.2)\n",
            "Requirement already satisfied, skipping upgrade: termcolor>=1.1.0 in /usr/local/lib/python3.6/dist-packages (from tensorflow-gpu) (1.1.0)\n",
            "Requirement already satisfied, skipping upgrade: werkzeug>=0.11.15 in /usr/local/lib/python3.6/dist-packages (from tensorboard<2.1.0,>=2.0.0->tensorflow-gpu) (0.16.0)\n",
            "Requirement already satisfied, skipping upgrade: setuptools>=41.0.0 in /usr/local/lib/python3.6/dist-packages (from tensorboard<2.1.0,>=2.0.0->tensorflow-gpu) (41.4.0)\n",
            "Requirement already satisfied, skipping upgrade: google-auth<2,>=1.6.3 in /usr/local/lib/python3.6/dist-packages (from tensorboard<2.1.0,>=2.0.0->tensorflow-gpu) (1.6.3)\n",
            "Requirement already satisfied, skipping upgrade: google-auth-oauthlib<0.5,>=0.4.1 in /usr/local/lib/python3.6/dist-packages (from tensorboard<2.1.0,>=2.0.0->tensorflow-gpu) (0.4.1)\n",
            "Requirement already satisfied, skipping upgrade: markdown>=2.6.8 in /usr/local/lib/python3.6/dist-packages (from tensorboard<2.1.0,>=2.0.0->tensorflow-gpu) (3.1.1)\n",
            "Requirement already satisfied, skipping upgrade: h5py in /usr/local/lib/python3.6/dist-packages (from keras-applications>=1.0.8->tensorflow-gpu) (2.8.0)\n",
            "Requirement already satisfied, skipping upgrade: rsa>=3.1.4 in /usr/local/lib/python3.6/dist-packages (from google-auth<2,>=1.6.3->tensorboard<2.1.0,>=2.0.0->tensorflow-gpu) (4.0)\n",
            "Requirement already satisfied, skipping upgrade: pyasn1-modules>=0.2.1 in /usr/local/lib/python3.6/dist-packages (from google-auth<2,>=1.6.3->tensorboard<2.1.0,>=2.0.0->tensorflow-gpu) (0.2.7)\n",
            "Requirement already satisfied, skipping upgrade: cachetools>=2.0.0 in /usr/local/lib/python3.6/dist-packages (from google-auth<2,>=1.6.3->tensorboard<2.1.0,>=2.0.0->tensorflow-gpu) (3.1.1)\n",
            "Requirement already satisfied, skipping upgrade: requests-oauthlib>=0.7.0 in /usr/local/lib/python3.6/dist-packages (from google-auth-oauthlib<0.5,>=0.4.1->tensorboard<2.1.0,>=2.0.0->tensorflow-gpu) (1.2.0)\n",
            "Requirement already satisfied, skipping upgrade: pyasn1>=0.1.3 in /usr/local/lib/python3.6/dist-packages (from rsa>=3.1.4->google-auth<2,>=1.6.3->tensorboard<2.1.0,>=2.0.0->tensorflow-gpu) (0.4.7)\n",
            "Requirement already satisfied, skipping upgrade: requests>=2.0.0 in /usr/local/lib/python3.6/dist-packages (from requests-oauthlib>=0.7.0->google-auth-oauthlib<0.5,>=0.4.1->tensorboard<2.1.0,>=2.0.0->tensorflow-gpu) (2.21.0)\n",
            "Requirement already satisfied, skipping upgrade: oauthlib>=3.0.0 in /usr/local/lib/python3.6/dist-packages (from requests-oauthlib>=0.7.0->google-auth-oauthlib<0.5,>=0.4.1->tensorboard<2.1.0,>=2.0.0->tensorflow-gpu) (3.1.0)\n",
            "Requirement already satisfied, skipping upgrade: chardet<3.1.0,>=3.0.2 in /usr/local/lib/python3.6/dist-packages (from requests>=2.0.0->requests-oauthlib>=0.7.0->google-auth-oauthlib<0.5,>=0.4.1->tensorboard<2.1.0,>=2.0.0->tensorflow-gpu) (3.0.4)\n",
            "Requirement already satisfied, skipping upgrade: urllib3<1.25,>=1.21.1 in /usr/local/lib/python3.6/dist-packages (from requests>=2.0.0->requests-oauthlib>=0.7.0->google-auth-oauthlib<0.5,>=0.4.1->tensorboard<2.1.0,>=2.0.0->tensorflow-gpu) (1.24.3)\n",
            "Requirement already satisfied, skipping upgrade: idna<2.9,>=2.5 in /usr/local/lib/python3.6/dist-packages (from requests>=2.0.0->requests-oauthlib>=0.7.0->google-auth-oauthlib<0.5,>=0.4.1->tensorboard<2.1.0,>=2.0.0->tensorflow-gpu) (2.8)\n",
            "Requirement already satisfied, skipping upgrade: certifi>=2017.4.17 in /usr/local/lib/python3.6/dist-packages (from requests>=2.0.0->requests-oauthlib>=0.7.0->google-auth-oauthlib<0.5,>=0.4.1->tensorboard<2.1.0,>=2.0.0->tensorflow-gpu) (2019.9.11)\n"
          ],
          "name": "stdout"
        }
      ]
    },
    {
      "cell_type": "markdown",
      "metadata": {
        "id": "p2uVkA4MEbrP",
        "colab_type": "text"
      },
      "source": [
        "# Verify that you are running TensorFlow 2.0\n",
        "With good reason, you would want to check which tensorflow version you are running, such that you can ensure the right version is installed. For this tutorial, the below should say that your tensorflow version is 2.0.0 or later."
      ]
    },
    {
      "cell_type": "code",
      "metadata": {
        "id": "6OrUAOM7idXu",
        "colab_type": "code",
        "outputId": "34147f47-0775-442b-cb51-c05cd5a1ab1b",
        "colab": {
          "base_uri": "https://localhost:8080/",
          "height": 34
        }
      },
      "source": [
        "print(('Your TensorFlow version: {0}').format(tf.__version__))"
      ],
      "execution_count": 0,
      "outputs": [
        {
          "output_type": "stream",
          "text": [
            "Your TensorFlow version: 2.0.0\n"
          ],
          "name": "stdout"
        }
      ]
    },
    {
      "cell_type": "markdown",
      "metadata": {
        "id": "jGDymwHbMkyc",
        "colab_type": "text"
      },
      "source": [
        "# Verify if running eager execution\n",
        "Eager execution is a fairly new addition to the tensorflow framework, thus we wish to check if eager execution is enabled or disabled."
      ]
    },
    {
      "cell_type": "code",
      "metadata": {
        "id": "96YupcX8MoS5",
        "colab_type": "code",
        "outputId": "597a29d4-3405-42e4-a6d0-027a9e15ea68",
        "colab": {
          "base_uri": "https://localhost:8080/",
          "height": 102
        }
      },
      "source": [
        "if(tf.executing_eagerly()):\n",
        "    print('Eager execution is enabled (running operations immediately)\\n')\n",
        "    print(('Turn eager execution off by running: \\n{0}\\n{1}').format('' \\\n",
        "        'from tensorflow.python.framework.ops import disable_eager_execution', \\\n",
        "        'disable_eager_execution()'))\n",
        "else:\n",
        "    print('You are not running eager execution. TensorFlow version >= 2.0.0' \\\n",
        "          'has eager execution enabled by default.')\n",
        "    print(('Turn on eager execution by running: \\n\\n{0}\\n\\nOr upgrade '\\\n",
        "           'your tensorflow version by running:\\n\\n{1}').format(\n",
        "           'tf.compat.v1.enable_eager_execution()',\n",
        "           '!pip install --upgrade tensorflow\\n' \\\n",
        "           '!pip install --upgrade tensorflow-gpu'))"
      ],
      "execution_count": 0,
      "outputs": [
        {
          "output_type": "stream",
          "text": [
            "Eager execution is enabled (running operations immediately)\n",
            "\n",
            "Turn eager execution off by running: \n",
            "from tensorflow.python.framework.ops import disable_eager_execution\n",
            "disable_eager_execution()\n"
          ],
          "name": "stdout"
        }
      ]
    },
    {
      "cell_type": "markdown",
      "metadata": {
        "id": "kvj1PkXxfUi5",
        "colab_type": "text"
      },
      "source": [
        "# Verify if GPU is available and ready to be used"
      ]
    },
    {
      "cell_type": "code",
      "metadata": {
        "id": "PrF-0HHMfHYc",
        "colab_type": "code",
        "outputId": "91b12091-14dd-41a6-c7f2-ad0f32e309f6",
        "colab": {
          "base_uri": "https://localhost:8080/",
          "height": 102
        }
      },
      "source": [
        "print(('Is your GPU available for use?\\n{0}').format(\n",
        "    'Yes, your GPU is available: True' if tf.test.is_gpu_available() == True else 'No, your GPU is NOT available: False'\n",
        "))\n",
        "\n",
        "print(('\\nYour devices that are available:\\n{0}').format(\n",
        "    [device.name for device in tf.config.experimental.list_physical_devices()]\n",
        "))\n",
        "\n",
        "# A second method for getting devices:\n",
        "#from tensorflow.python.client import device_lib\n",
        "#print([device.name for device in device_lib.list_local_devices() if device.name != None])"
      ],
      "execution_count": 0,
      "outputs": [
        {
          "output_type": "stream",
          "text": [
            "Is your GPU available for use?\n",
            "Yes, your GPU is available: True\n",
            "\n",
            "Your devices that are available:\n",
            "['/physical_device:CPU:0', '/physical_device:XLA_CPU:0', '/physical_device:XLA_GPU:0', '/physical_device:GPU:0']\n"
          ],
          "name": "stdout"
        }
      ]
    },
    {
      "cell_type": "markdown",
      "metadata": {
        "id": "3GiXROvpktHS",
        "colab_type": "text"
      },
      "source": [
        "## Using specific devices"
      ]
    },
    {
      "cell_type": "code",
      "metadata": {
        "id": "F2WGyJgNkqFg",
        "colab_type": "code",
        "outputId": "6a3b9210-a087-4721-e0de-6896c7a160ba",
        "colab": {
          "base_uri": "https://localhost:8080/",
          "height": 153
        }
      },
      "source": [
        "import time\n",
        "\n",
        "cpu_slot = 0\n",
        "gpu_slot = 0\n",
        "\n",
        "# Using CPU at slot 0\n",
        "with tf.device('/CPU:' + str(cpu_slot)):\n",
        "    # Starting a timer\n",
        "    start = time.time()\n",
        "\n",
        "    # Doing operations on CPU\n",
        "    A = tf.constant([[3, 2], [5, 2]])\n",
        "    print(tf.eye(2,2))\n",
        "\n",
        "    # Printing how long it took with CPU\n",
        "    end = time.time() - start\n",
        "    print(end)\n",
        "\n",
        "# Using the GPU at slot 0\n",
        "with tf.device('/GPU:' + str(gpu_slot)):\n",
        "    # Starting a timer\n",
        "    start = time.time()\n",
        "\n",
        "    # Doing operations on GPU\n",
        "    A = tf.constant([[3, 2], [5, 2]])\n",
        "    print(tf.eye(2,2))\n",
        "\n",
        "    # Printing how long it took with GPU\n",
        "    end = time.time() - start\n",
        "    print(end)"
      ],
      "execution_count": 0,
      "outputs": [
        {
          "output_type": "stream",
          "text": [
            "tf.Tensor(\n",
            "[[1. 0.]\n",
            " [0. 1.]], shape=(2, 2), dtype=float32)\n",
            "0.0023527145385742188\n",
            "tf.Tensor(\n",
            "[[1. 0.]\n",
            " [0. 1.]], shape=(2, 2), dtype=float32)\n",
            "0.0018095970153808594\n"
          ],
          "name": "stdout"
        }
      ]
    },
    {
      "cell_type": "markdown",
      "metadata": {
        "id": "nKg-TFroDL9r",
        "colab_type": "text"
      },
      "source": [
        "# Simple Operations\n",
        "\n",
        "We need to know the basic operations in tensorflow, in order to be able to use tensorflow for most of our work."
      ]
    },
    {
      "cell_type": "markdown",
      "metadata": {
        "id": "dcBo1letMA2a",
        "colab_type": "text"
      },
      "source": [
        "## Common Use\n",
        "This is some of the common functions from tensorflow, that you will probably need to use at some point.\n",
        "\n",
        "* Making tensors `tf.constant` and `tf.Variable`\n",
        "* Concatenation of two tensors by `tf.concat`\n",
        "* Making tensors by `tf.zeros` or `tf.ones`\n",
        "* Reshape data by `tf.reshape`\n",
        "* Casting tensors to other data types by `tf.cast`"
      ]
    },
    {
      "cell_type": "markdown",
      "metadata": {
        "id": "3QvxkXjG_8AY",
        "colab_type": "text"
      },
      "source": [
        "### Concatenation by `tf.concat` and making tensors by `tf.constant`"
      ]
    },
    {
      "cell_type": "code",
      "metadata": {
        "id": "iucW1zCGWdsj",
        "colab_type": "code",
        "outputId": "d51715b4-7ab5-44b8-f5ea-871636354a51",
        "colab": {
          "base_uri": "https://localhost:8080/",
          "height": 170
        }
      },
      "source": [
        "# Making a constant tensor A, that does not change\n",
        "A = tf.constant([[3, 2],\n",
        "                 [5, 2]])\n",
        "\n",
        "# Making a Variable tensor VA, which can change. Notice it's .Variable\n",
        "VA = tf.Variable([[3, 2],\n",
        "                 [5, 2]])\n",
        "\n",
        "# Making another tensor B\n",
        "B = tf.constant([[9, 5],\n",
        "                 [1, 3]])\n",
        "\n",
        "# Concatenate columns\n",
        "AB_concatenated = tf.concat(values=[A, B], axis=1)\n",
        "print(('Adding B\\'s columns to A:\\n{0}').format(\n",
        "    AB_concatenated.numpy()\n",
        "))\n",
        "\n",
        "# Concatenate rows\n",
        "AB_concatenated = tf.concat(values=[A, B], axis=0)\n",
        "print(('\\nAdding B\\'s rows to A:\\n{0}').format(\n",
        "    AB_concatenated.numpy()\n",
        "))"
      ],
      "execution_count": 0,
      "outputs": [
        {
          "output_type": "stream",
          "text": [
            "Adding B's columns to A:\n",
            "[[3 2 9 5]\n",
            " [5 2 1 3]]\n",
            "\n",
            "Adding B's rows to A:\n",
            "[[3 2]\n",
            " [5 2]\n",
            " [9 5]\n",
            " [1 3]]\n"
          ],
          "name": "stdout"
        }
      ]
    },
    {
      "cell_type": "markdown",
      "metadata": {
        "id": "vy4CIX9e4YlL",
        "colab_type": "text"
      },
      "source": [
        "### Making tensors by `tf.zeros` and `tf.ones`"
      ]
    },
    {
      "cell_type": "code",
      "metadata": {
        "id": "eHkPzJ_k4ZZ-",
        "colab_type": "code",
        "outputId": "e8785d21-3cab-4d4f-d06e-145281fad545",
        "colab": {
          "base_uri": "https://localhost:8080/",
          "height": 204
        }
      },
      "source": [
        "# Making a tensor filled with zeros. shape=[rows, columns]\n",
        "tensor = tf.zeros(shape=[3, 4], dtype=tf.int32)\n",
        "print(('Tensor full of zeros as int32, 3 rows and 4 columns:\\n{0}').format(\n",
        "    tensor.numpy()\n",
        "))\n",
        "\n",
        "# Making a tensor filled with zeros with data type of float32\n",
        "tensor = tf.ones(shape=[5, 3], dtype=tf.float32)\n",
        "print(('\\nTensor full of ones as float32, 5 rows and 3 columns:\\n{0}').format(\n",
        "    tensor.numpy()\n",
        "))"
      ],
      "execution_count": 0,
      "outputs": [
        {
          "output_type": "stream",
          "text": [
            "Tensor full of zeros as int32, 3 rows and 4 columns:\n",
            "[[0 0 0 0]\n",
            " [0 0 0 0]\n",
            " [0 0 0 0]]\n",
            "\n",
            "Tensor full of ones as float32, 5 rows and 3 columns:\n",
            "[[1. 1. 1.]\n",
            " [1. 1. 1.]\n",
            " [1. 1. 1.]\n",
            " [1. 1. 1.]\n",
            " [1. 1. 1.]]\n"
          ],
          "name": "stdout"
        }
      ]
    },
    {
      "cell_type": "markdown",
      "metadata": {
        "id": "p4Tsd-TkEK5C",
        "colab_type": "text"
      },
      "source": [
        "### Reshape data by `tf.reshape`\n",
        "\n",
        "Say we have an image of 28x28 pixels, as in the MNIST dataset, then we could reshape the number of pixels, which would reduce the number of dimensions.\n",
        "\n"
      ]
    },
    {
      "cell_type": "code",
      "metadata": {
        "id": "0bDDMGQnELQf",
        "colab_type": "code",
        "outputId": "6ffb59ab-e91f-4c95-a3dd-81fe48e37cd3",
        "colab": {
          "base_uri": "https://localhost:8080/",
          "height": 153
        }
      },
      "source": [
        "# Making a tensor for reshaping\n",
        "tensor = tf.constant([[3, 2],\n",
        "                      [5, 2],\n",
        "                      [9, 5],\n",
        "                      [1, 3]])\n",
        "\n",
        "# Reshaping the tensor into a shape of: shape = [rows, columns]\n",
        "reshaped_tensor = tf.reshape(tensor = tensor,\n",
        "                             shape = [1, 8])\n",
        "\n",
        "print(('Tensor BEFORE reshape:\\n{0}').format(\n",
        "    tensor.numpy()\n",
        "))\n",
        "print(('\\nTensor AFTER reshape:\\n{0}').format(\n",
        "    reshaped_tensor.numpy()\n",
        "))"
      ],
      "execution_count": 0,
      "outputs": [
        {
          "output_type": "stream",
          "text": [
            "Tensor BEFORE reshape:\n",
            "[[3 2]\n",
            " [5 2]\n",
            " [9 5]\n",
            " [1 3]]\n",
            "\n",
            "Tensor AFTER reshape:\n",
            "[[3 2 5 2 9 5 1 3]]\n"
          ],
          "name": "stdout"
        }
      ]
    },
    {
      "cell_type": "markdown",
      "metadata": {
        "id": "ic_yjsqfOkRv",
        "colab_type": "text"
      },
      "source": [
        "### Casting tensors to other data types by `tf.cast`"
      ]
    },
    {
      "cell_type": "code",
      "metadata": {
        "id": "gQcww9RPOkGh",
        "colab_type": "code",
        "outputId": "8727a3f2-d670-42fa-f630-f1a8601fcb0a",
        "colab": {
          "base_uri": "https://localhost:8080/",
          "height": 204
        }
      },
      "source": [
        "# Making a tensor\n",
        "tensor = tf.constant([[3.1, 2.8],\n",
        "                      [5.2, 2.3],\n",
        "                      [9.7, 5.5],\n",
        "                      [1.1, 3.4]], \n",
        "                      dtype=tf.float32)\n",
        "\n",
        "tensor_as_int = tf.cast(tensor, tf.int32)\n",
        "\n",
        "print(('Tensor with floats:\\n{0}').format(\n",
        "    tensor.numpy()\n",
        "))\n",
        "print(('\\nTensor cast from float to int (just remove the decimal, no rounding):\\n{0}').format(\n",
        "    tensor_as_int.numpy()\n",
        "))"
      ],
      "execution_count": 0,
      "outputs": [
        {
          "output_type": "stream",
          "text": [
            "Tensor with floats:\n",
            "[[3.1 2.8]\n",
            " [5.2 2.3]\n",
            " [9.7 5.5]\n",
            " [1.1 3.4]]\n",
            "\n",
            "Tensor cast from float to int (just remove the decimal, no rounding):\n",
            "[[3 2]\n",
            " [5 2]\n",
            " [9 5]\n",
            " [1 3]]\n"
          ],
          "name": "stdout"
        }
      ]
    },
    {
      "cell_type": "markdown",
      "metadata": {
        "id": "X0DY_HGXWXAK",
        "colab_type": "text"
      },
      "source": [
        "## The linear algebra operations\n",
        "\n",
        "* Transpose tensor\n",
        "* Matrix Multiplication\n",
        "* Element-wise multiplication\n",
        "* Identity Matrix\n",
        "* Determinant\n",
        "* Dot Product"
      ]
    },
    {
      "cell_type": "markdown",
      "metadata": {
        "id": "2othpPBaAAS2",
        "colab_type": "text"
      },
      "source": [
        "### Transpose tensor"
      ]
    },
    {
      "cell_type": "code",
      "metadata": {
        "id": "qZIuH9QQ5aF6",
        "colab_type": "code",
        "outputId": "badb6ec6-8811-4264-9a81-f42b250e4094",
        "colab": {
          "base_uri": "https://localhost:8080/",
          "height": 68
        }
      },
      "source": [
        "# Some Matrix A\n",
        "A = tf.constant([[3, 7],\n",
        "                 [1, 9]])\n",
        "\n",
        "A = tf.transpose(A)\n",
        "\n",
        "print(('The transposed matrix A:\\n{0}').format(\n",
        "    A\n",
        "))"
      ],
      "execution_count": 0,
      "outputs": [
        {
          "output_type": "stream",
          "text": [
            "The transposed matrix A:\n",
            "[[3 1]\n",
            " [7 9]]\n"
          ],
          "name": "stdout"
        }
      ]
    },
    {
      "cell_type": "markdown",
      "metadata": {
        "id": "Ecd96KKl5XCR",
        "colab_type": "text"
      },
      "source": [
        "### Matrix Multiplication"
      ]
    },
    {
      "cell_type": "code",
      "metadata": {
        "id": "YmXT5BFqDLfb",
        "colab_type": "code",
        "outputId": "3f9fb17d-ed59-4522-f743-3443530bad21",
        "colab": {
          "base_uri": "https://localhost:8080/",
          "height": 68
        }
      },
      "source": [
        "# Some Matrix A\n",
        "A = tf.constant([[3, 7],\n",
        "                 [1, 9]])\n",
        "\n",
        "# Some vector v\n",
        "v = tf.constant([[5],\n",
        "                 [2]])\n",
        "\n",
        "# Matrix multiplication of A.v^T\n",
        "Av = tf.matmul(A, v)\n",
        "\n",
        "print(('Matrix Multiplication of A and v results in a new Tensor:\\n{0}').format(\n",
        "    Av\n",
        "))"
      ],
      "execution_count": 0,
      "outputs": [
        {
          "output_type": "stream",
          "text": [
            "Matrix Multiplication of A and v results in a new Tensor:\n",
            "[[29]\n",
            " [23]]\n"
          ],
          "name": "stdout"
        }
      ]
    },
    {
      "cell_type": "markdown",
      "metadata": {
        "id": "6F-ut4dgIrQJ",
        "colab_type": "text"
      },
      "source": [
        "### Element-wise multiplication\n",
        "\n",
        "Let's simply compare matrix multiplication and element-wise multiplication, so that we can see, that they are actually different."
      ]
    },
    {
      "cell_type": "code",
      "metadata": {
        "id": "gae8ZOu5IrFn",
        "colab_type": "code",
        "outputId": "d85d56ea-68b8-4dfb-d2dd-b330efd98ee7",
        "colab": {
          "base_uri": "https://localhost:8080/",
          "height": 68
        }
      },
      "source": [
        "# Element-wise multiplication\n",
        "Av = tf.multiply(A, v)\n",
        "\n",
        "print(('Element-wise multiplication of A and v results in a new Tensor:\\n{0}').format(\n",
        "    Av\n",
        "))"
      ],
      "execution_count": 0,
      "outputs": [
        {
          "output_type": "stream",
          "text": [
            "Element-wise multiplication of A and v results in a new Tensor:\n",
            "[[15 35]\n",
            " [ 2 18]]\n"
          ],
          "name": "stdout"
        }
      ]
    },
    {
      "cell_type": "markdown",
      "metadata": {
        "id": "aaYlmCvLEYUO",
        "colab_type": "text"
      },
      "source": [
        "### Identity Matrix"
      ]
    },
    {
      "cell_type": "code",
      "metadata": {
        "id": "F_mMWWVFEYHI",
        "colab_type": "code",
        "outputId": "12c18e7b-101b-4d33-d66d-02a0251f932b",
        "colab": {
          "base_uri": "https://localhost:8080/",
          "height": 153
        }
      },
      "source": [
        "# Some Matrix A\n",
        "A = tf.constant([[3, 7],\n",
        "                 [1, 9],\n",
        "                 [2, 5]])\n",
        "\n",
        "# Get number of dimensions\n",
        "rows, columns = A.shape\n",
        "print(('Get rows and columns in tensor A:\\n{0} rows\\n{1} columns').format(\n",
        "    rows, columns\n",
        "))\n",
        "\n",
        "# Making identity matrix\n",
        "A_identity = tf.eye(num_rows = rows,\n",
        "                    num_columns = columns,\n",
        "                    dtype = tf.int32)\n",
        "print(('\\nThe identity matrix of A:\\n{0}').format(\n",
        "    A_identity.numpy()\n",
        "))"
      ],
      "execution_count": 0,
      "outputs": [
        {
          "output_type": "stream",
          "text": [
            "Get rows and columns in tensor A:\n",
            "3 rows\n",
            "2 columns\n",
            "\n",
            "The identity matrix of A:\n",
            "[[1 0]\n",
            " [0 1]\n",
            " [0 0]]\n"
          ],
          "name": "stdout"
        }
      ]
    },
    {
      "cell_type": "markdown",
      "metadata": {
        "id": "a7v855lHIenD",
        "colab_type": "text"
      },
      "source": [
        "### Determinant\n",
        "\n",
        "Computing the determinant includes casting any tensor values to a data type that fits the determinant operation in tensorflow. Let's see how this unfolds."
      ]
    },
    {
      "cell_type": "code",
      "metadata": {
        "id": "ucWjEZo2IeRf",
        "colab_type": "code",
        "outputId": "6ed9ae12-7600-4297-aaf0-ce26cbd5c1cd",
        "colab": {
          "base_uri": "https://localhost:8080/",
          "height": 51
        }
      },
      "source": [
        "# Reusing Matrix A\n",
        "A = tf.constant([[3, 7],\n",
        "                 [1, 9]])\n",
        "\n",
        "# Determinant must be: half, float32, float64, complex64, complex128\n",
        "# Thus, we cast A to the data type float32\n",
        "A = tf.dtypes.cast(A, tf.float32)\n",
        "\n",
        "# Finding the determinant of A\n",
        "det_A = tf.linalg.det(A)\n",
        "\n",
        "print(('The determinant of A:\\n{0}').format(\n",
        "    det_A\n",
        "))"
      ],
      "execution_count": 0,
      "outputs": [
        {
          "output_type": "stream",
          "text": [
            "The determinant of A:\n",
            "20.000001907348633\n"
          ],
          "name": "stdout"
        }
      ]
    },
    {
      "cell_type": "markdown",
      "metadata": {
        "id": "EmBX_Z5HIpCa",
        "colab_type": "text"
      },
      "source": [
        "### Dot Product\n",
        "\n",
        "The dot product is one of the most essential pieces to linear algebra. It can be shown that for some tensors, we get the same outcome from `tf.matmul` from earlier and `tf.tensordot`."
      ]
    },
    {
      "cell_type": "code",
      "metadata": {
        "id": "awtFK-LnIozP",
        "colab_type": "code",
        "outputId": "bbb1fe4f-61d8-4aa2-b01e-8830b6aad43b",
        "colab": {
          "base_uri": "https://localhost:8080/",
          "height": 170
        }
      },
      "source": [
        "# Defining a 3x3 matrix\n",
        "A = tf.constant([[32, 83, 5],\n",
        "                 [17, 23, 10],\n",
        "                 [75, 39, 52]])\n",
        "\n",
        "# Defining another 3x3 matrix\n",
        "B = tf.constant([[28, 57, 20],\n",
        "                 [91, 10, 95],\n",
        "                 [37, 13, 45]])\n",
        "\n",
        "# Finding the dot product\n",
        "dot_AB = tf.tensordot(a=A, b=B, axes=1).numpy()\n",
        "\n",
        "print(('Dot product of A.B^T results in a new Tensor:\\n{0}').format(\n",
        "    dot_AB\n",
        "))\n",
        "\n",
        "# Which is the same as matrix multiplication in this instance (axes=1)\n",
        "# Matrix multiplication of A and B\n",
        "AB = tf.matmul(A, B)\n",
        "\n",
        "print(('\\nMatrix Multiplication of A.B^T results in a new Tensor:\\n{0}').format(\n",
        "    AB\n",
        "))"
      ],
      "execution_count": 0,
      "outputs": [
        {
          "output_type": "stream",
          "text": [
            "Dot product of A.B^T results in a new Tensor:\n",
            "[[8634 2719 8750]\n",
            " [2939 1329 2975]\n",
            " [7573 5341 7545]]\n",
            "\n",
            "Matrix Multiplication of A.B^T results in a new Tensor:\n",
            "[[8634 2719 8750]\n",
            " [2939 1329 2975]\n",
            " [7573 5341 7545]]\n"
          ],
          "name": "stdout"
        }
      ]
    },
    {
      "cell_type": "markdown",
      "metadata": {
        "id": "O03T2ZECNFyy",
        "colab_type": "text"
      },
      "source": [
        "# Calculating Gradients\n",
        "\n",
        "When using gradient tape from TensorFlow, we need to create a `tf.Variable` and not `tf.constant`, because TensorFlow does not watch constants. The great thing about making variables is that we can use gradient tape at any time, and TensorFlow will automatically give us the gradient.\n"
      ]
    },
    {
      "cell_type": "markdown",
      "metadata": {
        "id": "84GvcY0puLUg",
        "colab_type": "text"
      },
      "source": [
        "## Gradient Tape (Automatic Differentiation)\n",
        "\n",
        "Let's make an example of the newer **GELU activation function**, used in OpenAI's GPT-2 and Google's BERT.\n",
        "\n",
        "The GELU function:\n",
        "\n",
        "$$\n",
        "    \\text{GELU}(x) = 0.5x\\left(1+\\text{tanh}\\left(\\sqrt{2/\\pi}(x+0.044715x^3)\\right)\\right)\n",
        "$$\n",
        "<br><br>\n",
        "GELU differentiated:\n",
        "\n",
        "$$\n",
        "    \\text{GELU}'(x) = 0.5\\text{tanh}(0.0356774x^3 + 0.797885 x) + (0.0535161 x^3 + 0.398942 x) \\text{sech}^2(0.0356774x^3+0.797885x)+0.5\n",
        "$$\n",
        "<br><br>\n",
        "If we input $x=0.5$ into the GELU function, we get the [following result](https://www.wolframalpha.com/input/?i=0.5tanh%280.0356774*0.5%5E3+%2B+0.797885*0.5%29+%2B+%280.0535161*0.5%5E3+%2B+0.398942*0.5%29sech%5E2%280.0356774*0.5%5E3%2B0.797885*0.5%29%2B0.5):\n",
        "\n",
        "$$\n",
        "GELU'(0.5) = 0.5tanh(0.0356774*0.5^3 + 0.797885*0.5) + (0.0535161*0.5^3 + 0.398942*0.5)sech^2(0.0356774*0.5^3+0.797885*0.5)+0.5 = 0.867370\n",
        "$$"
      ]
    },
    {
      "cell_type": "markdown",
      "metadata": {
        "id": "hJ6EQBKusuXM",
        "colab_type": "text"
      },
      "source": [
        "![image.png](data:image/png;base64,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)\n",
        "\n",
        "*<small>Image from ML From Scratch [Activation Functions post](https://mlfromscratch.com/activation-functions-explained/).</small>"
      ]
    },
    {
      "cell_type": "code",
      "metadata": {
        "id": "7y3inLxtNImT",
        "colab_type": "code",
        "outputId": "bc577920-cca6-4d59-a501-d5d0305e0934",
        "colab": {
          "base_uri": "https://localhost:8080/",
          "height": 34
        }
      },
      "source": [
        "import math\n",
        "\n",
        "def gelu(x):\n",
        "    return 0.5*x*(1+tf.tanh(tf.sqrt(2/math.pi)*(x+0.044715*tf.pow(x, 3))))\n",
        "\n",
        "def get_gradient(x, activation_function):\n",
        "    with tf.GradientTape() as gt:\n",
        "        y = activation_function(x)\n",
        "\n",
        "    gradient = gt.gradient(y, x).numpy()\n",
        "\n",
        "    return gradient\n",
        "\n",
        "x = tf.Variable(0.5)\n",
        "gradient = get_gradient(x, gelu)\n",
        "\n",
        "print('{0} is the gradient of GELU with x={1}'.format(\n",
        "    gradient, x.numpy()\n",
        "))"
      ],
      "execution_count": 0,
      "outputs": [
        {
          "output_type": "stream",
          "text": [
            "0.8673698902130127 is the gradient of GELU with x=0.5\n"
          ],
          "name": "stdout"
        }
      ]
    },
    {
      "cell_type": "markdown",
      "metadata": {
        "id": "LREItZvvvpDg",
        "colab_type": "text"
      },
      "source": [
        "# Functions in TensorFlow with `@tf.function`\n",
        "\n",
        "This second last part is from some of the [documentation](https://www.tensorflow.org/guide/function#the_tffunction_decorator) on TensorFlow 2.0."
      ]
    },
    {
      "cell_type": "code",
      "metadata": {
        "id": "Uk2A3miJvp-U",
        "colab_type": "code",
        "outputId": "85cc8dd5-1895-4b31-d890-a47b78ac6df8",
        "colab": {
          "base_uri": "https://localhost:8080/",
          "height": 119
        }
      },
      "source": [
        "import timeit\n",
        "conv_layer = tf.keras.layers.Conv2D(100, 3)\n",
        "\n",
        "@tf.function\n",
        "def conv_fn(image):\n",
        "  return conv_layer(image)\n",
        "\n",
        "image = tf.zeros([1, 200, 200, 100])\n",
        "# warm up\n",
        "conv_layer(image); conv_fn(image)\n",
        "\n",
        "no_tf_fn = timeit.timeit(lambda: conv_layer(image), number=10)\n",
        "with_tf_fn = timeit.timeit(lambda: conv_fn(image), number=10)\n",
        "difference = no_tf_fn - with_tf_fn\n",
        "\n",
        "print(\"Without tf.function: \", no_tf_fn)\n",
        "print(\"With tf.function: \", with_tf_fn)\n",
        "print(\"The difference: \", difference)\n",
        "\n",
        "print(\"\\nJust imagine when we have to do millions/billions of these calculations,\" \\\n",
        "      \" then the difference will be HUGE!\")\n",
        "print(\"Difference times a billion: \", difference*1000000000)"
      ],
      "execution_count": 0,
      "outputs": [
        {
          "output_type": "stream",
          "text": [
            "Without tf.function:  0.005995910000024196\n",
            "With tf.function:  0.005338444000017262\n",
            "The difference:  0.0006574660000069343\n",
            "\n",
            "Just imagine when we have to do millions/billions of these calculations, then the difference will be HUGE!\n",
            "Difference times a billion:  657466.0000069344\n"
          ],
          "name": "stdout"
        }
      ]
    },
    {
      "cell_type": "markdown",
      "metadata": {
        "id": "6ax15RP2Ith2",
        "colab_type": "text"
      },
      "source": [
        "# Building a Neural Network with TensorFlow 2.0\n",
        "\n",
        "For this last part, we are going to be providing a complete neural networks code example. Inspiration is taken from the [documentation](https://www.tensorflow.org/tutorials/quickstart/advanced), but is heavily modified. Follow this example, and you can customize your own neural network in tensorflow."
      ]
    },
    {
      "cell_type": "code",
      "metadata": {
        "id": "re8zFGL9ItMe",
        "colab_type": "code",
        "colab": {}
      },
      "source": [
        "from __future__ import absolute_import, division, print_function, unicode_literals\n",
        "\n",
        "from tensorflow.keras.layers import Dense, Flatten, Conv2D\n",
        "from tensorflow.keras import Model\n",
        "\n",
        "tf.keras.backend.set_floatx('float64')\n",
        "\n",
        "mnist = tf.keras.datasets.mnist\n",
        "\n",
        "# Load Data & Remove color channels\n",
        "(x_train, y_train), (x_test, y_test) = mnist.load_data()\n",
        "x_train, x_test = x_train / 255.0, x_test / 255.0\n",
        "\n",
        "# Add a channels dimension\n",
        "x_train = x_train[..., tf.newaxis]\n",
        "x_test = x_test[..., tf.newaxis]\n",
        "\n",
        "train_ds = tf.data.Dataset.from_tensor_slices(\n",
        "    (x_train, y_train)).shuffle(10000).batch(32)\n",
        "\n",
        "test_ds = tf.data.Dataset.from_tensor_slices((x_test, y_test)).batch(32)"
      ],
      "execution_count": 0,
      "outputs": []
    },
    {
      "cell_type": "code",
      "metadata": {
        "id": "sbOtREo17Etl",
        "colab_type": "code",
        "colab": {}
      },
      "source": [
        "class MyModel(Model):\n",
        "    def __init__(self,\n",
        "                 loss_object,\n",
        "                 optimizer,\n",
        "                 train_loss,\n",
        "                 train_metric,\n",
        "                 test_loss,\n",
        "                 test_metric):\n",
        "        '''\n",
        "            Setting all the variables for our model.\n",
        "        '''\n",
        "        super(MyModel, self).__init__()\n",
        "        self.conv1 = Conv2D(32, 3, activation='relu')\n",
        "        self.flatten = Flatten()\n",
        "        self.d1 = Dense(128, activation='relu')\n",
        "        self.d2 = Dense(10, activation='softmax')\n",
        "\n",
        "        self.loss_object = loss_object\n",
        "        self.optimizer = optimizer\n",
        "        self.train_loss = train_loss\n",
        "        self.train_metric = train_metric\n",
        "        self.test_loss = test_loss\n",
        "        self.test_metric = test_metric\n",
        "\n",
        "    def nn_model(self, x):\n",
        "        '''\n",
        "            Defining the architecture of our model. This is where we run \n",
        "            through our whole dataset and return it, when training and testing.\n",
        "        '''\n",
        "        x = self.conv1(x)\n",
        "        x = self.flatten(x)\n",
        "        x = self.d1(x)\n",
        "        return self.d2(x)\n",
        "    \n",
        "    @tf.function\n",
        "    def train_step(self, images, labels):\n",
        "        '''\n",
        "            This is a TensorFlow function, run once for each epoch for the\n",
        "            whole input. We move forward first, then calculate gradients with\n",
        "            Gradient Tape to move backwards.\n",
        "        '''\n",
        "        with tf.GradientTape() as tape:\n",
        "            predictions = self.nn_model(images)\n",
        "            loss = self.loss_object(labels, predictions)\n",
        "        gradients = tape.gradient(loss, self.trainable_variables)\n",
        "        optimizer.apply_gradients(zip(gradients, self.trainable_variables))\n",
        "\n",
        "        self.train_loss(loss)\n",
        "        self.train_metric(labels, predictions)\n",
        "\n",
        "    @tf.function\n",
        "    def test_step(self, images, labels):\n",
        "        '''\n",
        "            This is a TensorFlow function, run once for each epoch for the\n",
        "            whole input.\n",
        "        '''\n",
        "        predictions = self.nn_model(images)\n",
        "        t_loss = self.loss_object(labels, predictions)\n",
        "\n",
        "        self.test_loss(t_loss)\n",
        "        self.test_metric(labels, predictions)\n",
        "    \n",
        "    def fit(self, train, test, epochs):\n",
        "        '''\n",
        "            This fit function runs training and testing.\n",
        "        '''\n",
        "        for epoch in range(epochs):\n",
        "            for images, labels in train:\n",
        "                self.train_step(images, labels)\n",
        "\n",
        "            for test_images, test_labels in test:\n",
        "                self.test_step(test_images, test_labels)\n",
        "\n",
        "            template = 'Epoch {}, Loss: {}, Accuracy: {}, Test Loss: {}, Test Accuracy: {}'\n",
        "            print(template.format(epoch+1,\n",
        "                                  self.train_loss.result(),\n",
        "                                  self.train_metric.result()*100,\n",
        "                                  self.test_loss.result(),\n",
        "                                  self.test_metric.result()*100))\n",
        "\n",
        "            # Reset the metrics for the next epoch\n",
        "            self.train_loss.reset_states()\n",
        "            self.train_metric.reset_states()\n",
        "            self.test_loss.reset_states()\n",
        "            self.test_metric.reset_states()"
      ],
      "execution_count": 0,
      "outputs": []
    },
    {
      "cell_type": "code",
      "metadata": {
        "id": "oNiJ-1HvXU9W",
        "colab_type": "code",
        "outputId": "db412927-a5d0-4e33-b946-85a555583063",
        "colab": {
          "base_uri": "https://localhost:8080/",
          "height": 102
        }
      },
      "source": [
        "# Make a loss object\n",
        "loss_object = tf.keras.losses.SparseCategoricalCrossentropy()\n",
        "\n",
        "# Select the optimizer\n",
        "optimizer = tf.keras.optimizers.Adam()\n",
        "\n",
        "# Specify metrics for training\n",
        "train_loss = tf.keras.metrics.Mean(name='train_loss')\n",
        "train_metric = tf.keras.metrics.SparseCategoricalAccuracy(name='train_accuracy')\n",
        "\n",
        "# Specify metrics for testing\n",
        "test_loss = tf.keras.metrics.Mean(name='test_loss')\n",
        "test_metric = tf.keras.metrics.SparseCategoricalAccuracy(name='test_accuracy')\n",
        "\n",
        "# Create an instance of the model\n",
        "model = MyModel(loss_object = loss_object,\n",
        "                optimizer = optimizer,\n",
        "                train_loss = train_loss,\n",
        "                train_metric = train_metric,\n",
        "                test_loss = test_loss,\n",
        "                test_metric = test_metric)\n",
        "\n",
        "EPOCHS = 5\n",
        "\n",
        "model.fit(train = train_ds,\n",
        "          test = test_ds,\n",
        "          epochs = EPOCHS)"
      ],
      "execution_count": 0,
      "outputs": [
        {
          "output_type": "stream",
          "text": [
            "Epoch 1, Loss: 0.13490843153949827, Accuracy: 95.94166666666666, Test Loss: 0.06402905891434076, Test Accuracy: 97.86\n",
            "Epoch 2, Loss: 0.043823116325043765, Accuracy: 98.64666666666668, Test Loss: 0.06146741438847755, Test Accuracy: 98.05\n",
            "Epoch 3, Loss: 0.022285125361487735, Accuracy: 99.29666666666667, Test Loss: 0.056894636656289105, Test Accuracy: 98.3\n",
            "Epoch 4, Loss: 0.013788788002398602, Accuracy: 99.52666666666666, Test Loss: 0.0621878185059347, Test Accuracy: 98.3\n",
            "Epoch 5, Loss: 0.010066991776032834, Accuracy: 99.66000000000001, Test Loss: 0.06649907561390188, Test Accuracy: 98.33\n"
          ],
          "name": "stdout"
        }
      ]
    }
  ]
}